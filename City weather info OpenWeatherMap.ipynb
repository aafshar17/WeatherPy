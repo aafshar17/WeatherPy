{
 "cells": [
  {
   "cell_type": "code",
   "execution_count": 13,
   "metadata": {},
   "outputs": [],
   "source": [
    "# import dependencies\n",
    "import numpy as np\n",
    "import pandas as pd\n",
    "import matplotlib.pyplot as plt\n",
    "%matplotlib inline\n",
    "import requests as req\n",
    "import json\n",
    "from citipy import citipy"
   ]
  },
  {
   "cell_type": "code",
   "execution_count": 14,
   "metadata": {},
   "outputs": [],
   "source": [
    "import openweathermapy.core as ow\n",
    "import urllib"
   ]
  },
  {
   "cell_type": "code",
   "execution_count": 17,
   "metadata": {},
   "outputs": [
    {
     "name": "stdout",
     "output_type": "stream",
     "text": [
      "{'cod': '200', 'message': 0.0209, 'cnt': 24, 'list': [{'dt': 1532908800, 'main': {'temp': 299.15, 'temp_min': 298.181, 'temp_max': 299.15, 'pressure': 990.18, 'sea_level': 1030.92, 'grnd_level': 990.18, 'humidity': 72, 'temp_kf': 0.97}, 'weather': [{'id': 800, 'main': 'Clear', 'description': 'clear sky', 'icon': '02n'}], 'clouds': {'all': 8}, 'wind': {'speed': 1.37, 'deg': 10.5011}, 'rain': {}, 'sys': {'pod': 'n'}, 'dt_txt': '2018-07-30 00:00:00'}, {'dt': 1532919600, 'main': {'temp': 295.09, 'temp_min': 294.357, 'temp_max': 295.09, 'pressure': 990.52, 'sea_level': 1031.51, 'grnd_level': 990.52, 'humidity': 74, 'temp_kf': 0.73}, 'weather': [{'id': 801, 'main': 'Clouds', 'description': 'few clouds', 'icon': '02n'}], 'clouds': {'all': 12}, 'wind': {'speed': 1.97, 'deg': 38.5004}, 'rain': {}, 'sys': {'pod': 'n'}, 'dt_txt': '2018-07-30 03:00:00'}, {'dt': 1532930400, 'main': {'temp': 292.88, 'temp_min': 292.391, 'temp_max': 292.88, 'pressure': 990.11, 'sea_level': 1031.11, 'grnd_level': 990.11, 'humidity': 85, 'temp_kf': 0.49}, 'weather': [{'id': 801, 'main': 'Clouds', 'description': 'few clouds', 'icon': '02n'}], 'clouds': {'all': 12}, 'wind': {'speed': 1.31, 'deg': 47.5}, 'rain': {}, 'sys': {'pod': 'n'}, 'dt_txt': '2018-07-30 06:00:00'}, {'dt': 1532941200, 'main': {'temp': 292.37, 'temp_min': 292.131, 'temp_max': 292.37, 'pressure': 989.15, 'sea_level': 1030.32, 'grnd_level': 989.15, 'humidity': 79, 'temp_kf': 0.24}, 'weather': [{'id': 802, 'main': 'Clouds', 'description': 'scattered clouds', 'icon': '03n'}], 'clouds': {'all': 44}, 'wind': {'speed': 1.88, 'deg': 58.0025}, 'rain': {}, 'sys': {'pod': 'n'}, 'dt_txt': '2018-07-30 09:00:00'}, {'dt': 1532952000, 'main': {'temp': 292.966, 'temp_min': 292.966, 'temp_max': 292.966, 'pressure': 989.12, 'sea_level': 1030.24, 'grnd_level': 989.12, 'humidity': 81, 'temp_kf': 0}, 'weather': [{'id': 803, 'main': 'Clouds', 'description': 'broken clouds', 'icon': '04d'}], 'clouds': {'all': 76}, 'wind': {'speed': 1.82, 'deg': 63.0008}, 'rain': {}, 'sys': {'pod': 'd'}, 'dt_txt': '2018-07-30 12:00:00'}, {'dt': 1532962800, 'main': {'temp': 294.764, 'temp_min': 294.764, 'temp_max': 294.764, 'pressure': 989.36, 'sea_level': 1030.3, 'grnd_level': 989.36, 'humidity': 80, 'temp_kf': 0}, 'weather': [{'id': 500, 'main': 'Rain', 'description': 'light rain', 'icon': '10d'}], 'clouds': {'all': 92}, 'wind': {'speed': 1.41, 'deg': 40.5024}, 'rain': {'3h': 0.21}, 'sys': {'pod': 'd'}, 'dt_txt': '2018-07-30 15:00:00'}, {'dt': 1532973600, 'main': {'temp': 292.907, 'temp_min': 292.907, 'temp_max': 292.907, 'pressure': 989.57, 'sea_level': 1030.48, 'grnd_level': 989.57, 'humidity': 100, 'temp_kf': 0}, 'weather': [{'id': 501, 'main': 'Rain', 'description': 'moderate rain', 'icon': '10d'}], 'clouds': {'all': 100}, 'wind': {'speed': 1.51, 'deg': 62.5006}, 'rain': {'3h': 3.32}, 'sys': {'pod': 'd'}, 'dt_txt': '2018-07-30 18:00:00'}, {'dt': 1532984400, 'main': {'temp': 296.614, 'temp_min': 296.614, 'temp_max': 296.614, 'pressure': 987.87, 'sea_level': 1028.65, 'grnd_level': 987.87, 'humidity': 88, 'temp_kf': 0}, 'weather': [{'id': 500, 'main': 'Rain', 'description': 'light rain', 'icon': '10d'}], 'clouds': {'all': 80}, 'wind': {'speed': 1.52, 'deg': 148.002}, 'rain': {'3h': 0.12}, 'sys': {'pod': 'd'}, 'dt_txt': '2018-07-30 21:00:00'}, {'dt': 1532995200, 'main': {'temp': 293.537, 'temp_min': 293.537, 'temp_max': 293.537, 'pressure': 987.23, 'sea_level': 1028.08, 'grnd_level': 987.23, 'humidity': 100, 'temp_kf': 0}, 'weather': [{'id': 501, 'main': 'Rain', 'description': 'moderate rain', 'icon': '10n'}], 'clouds': {'all': 92}, 'wind': {'speed': 1.41, 'deg': 102.002}, 'rain': {'3h': 6}, 'sys': {'pod': 'n'}, 'dt_txt': '2018-07-31 00:00:00'}, {'dt': 1533006000, 'main': {'temp': 292.277, 'temp_min': 292.277, 'temp_max': 292.277, 'pressure': 987.25, 'sea_level': 1028.09, 'grnd_level': 987.25, 'humidity': 98, 'temp_kf': 0}, 'weather': [{'id': 501, 'main': 'Rain', 'description': 'moderate rain', 'icon': '10n'}], 'clouds': {'all': 92}, 'wind': {'speed': 1.57, 'deg': 154.5}, 'rain': {'3h': 8.8}, 'sys': {'pod': 'n'}, 'dt_txt': '2018-07-31 03:00:00'}, {'dt': 1533016800, 'main': {'temp': 292.595, 'temp_min': 292.595, 'temp_max': 292.595, 'pressure': 986.57, 'sea_level': 1027.47, 'grnd_level': 986.57, 'humidity': 98, 'temp_kf': 0}, 'weather': [{'id': 500, 'main': 'Rain', 'description': 'light rain', 'icon': '10n'}], 'clouds': {'all': 92}, 'wind': {'speed': 1.76, 'deg': 189.503}, 'rain': {'3h': 1.56}, 'sys': {'pod': 'n'}, 'dt_txt': '2018-07-31 06:00:00'}, {'dt': 1533027600, 'main': {'temp': 292.435, 'temp_min': 292.435, 'temp_max': 292.435, 'pressure': 985.78, 'sea_level': 1026.76, 'grnd_level': 985.78, 'humidity': 98, 'temp_kf': 0}, 'weather': [{'id': 500, 'main': 'Rain', 'description': 'light rain', 'icon': '10n'}], 'clouds': {'all': 92}, 'wind': {'speed': 1.21, 'deg': 199.503}, 'rain': {'3h': 0.050000000000001}, 'sys': {'pod': 'n'}, 'dt_txt': '2018-07-31 09:00:00'}, {'dt': 1533038400, 'main': {'temp': 292.714, 'temp_min': 292.714, 'temp_max': 292.714, 'pressure': 986.17, 'sea_level': 1026.98, 'grnd_level': 986.17, 'humidity': 99, 'temp_kf': 0}, 'weather': [{'id': 500, 'main': 'Rain', 'description': 'light rain', 'icon': '10d'}], 'clouds': {'all': 92}, 'wind': {'speed': 1.7, 'deg': 194.501}, 'rain': {'3h': 0.58}, 'sys': {'pod': 'd'}, 'dt_txt': '2018-07-31 12:00:00'}, {'dt': 1533049200, 'main': {'temp': 294.57, 'temp_min': 294.57, 'temp_max': 294.57, 'pressure': 986.16, 'sea_level': 1026.91, 'grnd_level': 986.16, 'humidity': 93, 'temp_kf': 0}, 'weather': [{'id': 500, 'main': 'Rain', 'description': 'light rain', 'icon': '10d'}], 'clouds': {'all': 92}, 'wind': {'speed': 1.66, 'deg': 211.507}, 'rain': {'3h': 0.029999999999998}, 'sys': {'pod': 'd'}, 'dt_txt': '2018-07-31 15:00:00'}, {'dt': 1533060000, 'main': {'temp': 297.069, 'temp_min': 297.069, 'temp_max': 297.069, 'pressure': 985.7, 'sea_level': 1026.27, 'grnd_level': 985.7, 'humidity': 85, 'temp_kf': 0}, 'weather': [{'id': 803, 'main': 'Clouds', 'description': 'broken clouds', 'icon': '04d'}], 'clouds': {'all': 80}, 'wind': {'speed': 1.62, 'deg': 227.001}, 'rain': {}, 'sys': {'pod': 'd'}, 'dt_txt': '2018-07-31 18:00:00'}, {'dt': 1533070800, 'main': {'temp': 296.613, 'temp_min': 296.613, 'temp_max': 296.613, 'pressure': 984.48, 'sea_level': 1025.12, 'grnd_level': 984.48, 'humidity': 85, 'temp_kf': 0}, 'weather': [{'id': 500, 'main': 'Rain', 'description': 'light rain', 'icon': '10d'}], 'clouds': {'all': 92}, 'wind': {'speed': 1.55, 'deg': 264.501}, 'rain': {'3h': 0.09}, 'sys': {'pod': 'd'}, 'dt_txt': '2018-07-31 21:00:00'}, {'dt': 1533081600, 'main': {'temp': 293.26, 'temp_min': 293.26, 'temp_max': 293.26, 'pressure': 984.19, 'sea_level': 1024.7, 'grnd_level': 984.19, 'humidity': 100, 'temp_kf': 0}, 'weather': [{'id': 500, 'main': 'Rain', 'description': 'light rain', 'icon': '10n'}], 'clouds': {'all': 92}, 'wind': {'speed': 1.16, 'deg': 312.507}, 'rain': {'3h': 1.82}, 'sys': {'pod': 'n'}, 'dt_txt': '2018-08-01 00:00:00'}, {'dt': 1533092400, 'main': {'temp': 292.487, 'temp_min': 292.487, 'temp_max': 292.487, 'pressure': 984.52, 'sea_level': 1025.38, 'grnd_level': 984.52, 'humidity': 100, 'temp_kf': 0}, 'weather': [{'id': 500, 'main': 'Rain', 'description': 'light rain', 'icon': '10n'}], 'clouds': {'all': 92}, 'wind': {'speed': 1.17, 'deg': 254}, 'rain': {'3h': 1.03}, 'sys': {'pod': 'n'}, 'dt_txt': '2018-08-01 03:00:00'}, {'dt': 1533103200, 'main': {'temp': 292.114, 'temp_min': 292.114, 'temp_max': 292.114, 'pressure': 984.84, 'sea_level': 1025.82, 'grnd_level': 984.84, 'humidity': 100, 'temp_kf': 0}, 'weather': [{'id': 500, 'main': 'Rain', 'description': 'light rain', 'icon': '10n'}], 'clouds': {'all': 100}, 'wind': {'speed': 1.4, 'deg': 267.502}, 'rain': {'3h': 2.05}, 'sys': {'pod': 'n'}, 'dt_txt': '2018-08-01 06:00:00'}, {'dt': 1533114000, 'main': {'temp': 291.809, 'temp_min': 291.809, 'temp_max': 291.809, 'pressure': 985.3, 'sea_level': 1026.33, 'grnd_level': 985.3, 'humidity': 98, 'temp_kf': 0}, 'weather': [{'id': 500, 'main': 'Rain', 'description': 'light rain', 'icon': '10n'}], 'clouds': {'all': 92}, 'wind': {'speed': 1.6, 'deg': 273.005}, 'rain': {'3h': 0.35}, 'sys': {'pod': 'n'}, 'dt_txt': '2018-08-01 09:00:00'}, {'dt': 1533124800, 'main': {'temp': 291.717, 'temp_min': 291.717, 'temp_max': 291.717, 'pressure': 986.99, 'sea_level': 1027.98, 'grnd_level': 986.99, 'humidity': 99, 'temp_kf': 0}, 'weather': [{'id': 500, 'main': 'Rain', 'description': 'light rain', 'icon': '10d'}], 'clouds': {'all': 92}, 'wind': {'speed': 1.56, 'deg': 277.508}, 'rain': {'3h': 0.42}, 'sys': {'pod': 'd'}, 'dt_txt': '2018-08-01 12:00:00'}, {'dt': 1533135600, 'main': {'temp': 293.123, 'temp_min': 293.123, 'temp_max': 293.123, 'pressure': 987.95, 'sea_level': 1028.95, 'grnd_level': 987.95, 'humidity': 91, 'temp_kf': 0}, 'weather': [{'id': 500, 'main': 'Rain', 'description': 'light rain', 'icon': '10d'}], 'clouds': {'all': 68}, 'wind': {'speed': 1.97, 'deg': 296.504}, 'rain': {'3h': 0.059999999999999}, 'sys': {'pod': 'd'}, 'dt_txt': '2018-08-01 15:00:00'}, {'dt': 1533146400, 'main': {'temp': 296.761, 'temp_min': 296.761, 'temp_max': 296.761, 'pressure': 988.12, 'sea_level': 1028.94, 'grnd_level': 988.12, 'humidity': 78, 'temp_kf': 0}, 'weather': [{'id': 801, 'main': 'Clouds', 'description': 'few clouds', 'icon': '02d'}], 'clouds': {'all': 20}, 'wind': {'speed': 1.65, 'deg': 283.004}, 'rain': {}, 'sys': {'pod': 'd'}, 'dt_txt': '2018-08-01 18:00:00'}, {'dt': 1533157200, 'main': {'temp': 297.047, 'temp_min': 297.047, 'temp_max': 297.047, 'pressure': 987.76, 'sea_level': 1028.46, 'grnd_level': 987.76, 'humidity': 75, 'temp_kf': 0}, 'weather': [{'id': 803, 'main': 'Clouds', 'description': 'broken clouds', 'icon': '04d'}], 'clouds': {'all': 56}, 'wind': {'speed': 1.41, 'deg': 292.007}, 'rain': {}, 'sys': {'pod': 'd'}, 'dt_txt': '2018-08-01 21:00:00'}], 'city': {'id': 4298960, 'name': 'London', 'coord': {'lat': 37.129, 'lon': -84.0833}, 'country': 'US', 'population': 7993}}\n"
     ]
    }
   ],
   "source": [
    "# perform API calls\n",
    "api_key = \"0d632d3554840214b23b57727985763e\"\n",
    "\n",
    "# build url for api call\n",
    "url = \"http://api.openweathermap.org/data/2.5/forecast?q=London,us&mode=json&APPID=\" + api_key\n",
    "       \n",
    "try:\n",
    "        # grab data using API request\n",
    "        city_weather = req.get(url).json()\n",
    "        print(city_weather)\n",
    "        \n",
    "except:\n",
    "        print(\"city not found\")\n",
    "        pass"
   ]
  },
  {
   "cell_type": "code",
   "execution_count": null,
   "metadata": {},
   "outputs": [],
   "source": [
    "try:\n",
    "        # grab json data using API request\n",
    "        city_weather = req.get(url).json()\n",
    "        \n",
    "except:\n",
    "        print(\"city not found\")\n",
    "        pass"
   ]
  }
 ],
 "metadata": {
  "kernelspec": {
   "display_name": "Python 3",
   "language": "python",
   "name": "python3"
  },
  "language_info": {
   "codemirror_mode": {
    "name": "ipython",
    "version": 3
   },
   "file_extension": ".py",
   "mimetype": "text/x-python",
   "name": "python",
   "nbconvert_exporter": "python",
   "pygments_lexer": "ipython3",
   "version": "3.6.4"
  }
 },
 "nbformat": 4,
 "nbformat_minor": 2
}
